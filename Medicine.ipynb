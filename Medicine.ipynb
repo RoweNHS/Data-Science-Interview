{
 "cells": [
  {
   "cell_type": "code",
   "execution_count": 1,
   "id": "922735fa",
   "metadata": {},
   "outputs": [],
   "source": [
    "import pandas as pd\n",
    "import numpy as np"
   ]
  },
  {
   "cell_type": "code",
   "execution_count": 2,
   "id": "07cd56ee",
   "metadata": {},
   "outputs": [],
   "source": [
    "# We read in the data for the number of medications a person is on\n",
    "df = pd.read_csv('dataframe.txt', sep=',', header = 0)\n",
    "df = df.drop(df.columns[0], axis=1)"
   ]
  },
  {
   "cell_type": "code",
   "execution_count": 3,
   "id": "cb856a10",
   "metadata": {},
   "outputs": [],
   "source": [
    "# We read in the data for the number of medications a person is on\n",
    "Meds = pd.read_csv('meds1.txt', sep='\\t', header = None)"
   ]
  },
  {
   "cell_type": "code",
   "execution_count": 4,
   "id": "6d7212f3",
   "metadata": {},
   "outputs": [
    {
     "name": "stderr",
     "output_type": "stream",
     "text": [
      "C:\\Users\\rowt\\AppData\\Local\\Temp\\ipykernel_18576\\2511105175.py:9: SettingWithCopyWarning: \n",
      "A value is trying to be set on a copy of a slice from a DataFrame.\n",
      "Try using .loc[row_indexer,col_indexer] = value instead\n",
      "\n",
      "See the caveats in the documentation: https://pandas.pydata.org/pandas-docs/stable/user_guide/indexing.html#returning-a-view-versus-a-copy\n",
      "  total_meds['Medicine_item'] = 1\n"
     ]
    }
   ],
   "source": [
    "# We create our columns and apply them\n",
    "# We apply a numeric column for later summation\n",
    "# We group by the personkey and medicine item etc\n",
    "# Finally we merge on the personkey and replace nans.\n",
    "Meds_cols = ['PersonKey','MedicationStartDateKey','MedicationEndDateKey','IsRepeatMedication',\n",
    "            'DrugNameFromSystmOne','BnfChapter','BnfSubParagraph','BnfProduct']\n",
    "Meds.columns = Meds_cols\n",
    "total_meds = Meds[['PersonKey']]\n",
    "total_meds['Medicine_item'] = 1\n",
    "total_m = total_meds.groupby('PersonKey')['Medicine_item'].sum()\n",
    "total_m = total_m.reset_index()\n",
    "df = df.merge(total_m, on='PersonKey', how='left')\n",
    "df = df.replace(np.nan, 0)"
   ]
  },
  {
   "cell_type": "code",
   "execution_count": 5,
   "id": "816c3963",
   "metadata": {},
   "outputs": [],
   "source": [
    "# Here we create some new features based on medicines for vital bodily functions\n",
    "# We apply a numeric column for later summation\n",
    "# We pivot on our chosen medicines and personkey\n",
    "# Finally we merge on the personkey and replace nans.\n",
    "Meds['Medicine_item'] = 1\n",
    "pivoted = Meds.pivot_table(index='PersonKey', columns='BnfChapter', values='Medicine_item',aggfunc='sum')\n",
    "pivoted = pivoted.reset_index()\n",
    "pivoted = pivoted.reset_index(drop=True)\n",
    "pivoted = pivoted[['PersonKey','Cardiovascular System','Endocrine System','Respiratory System','Infections',\n",
    "                   'Malignant Disease and Immunosuppression']]\n",
    "df = df.merge(pivoted, on='PersonKey', how='left')\n",
    "df = df.replace(np.nan, 0)"
   ]
  },
  {
   "cell_type": "code",
   "execution_count": 6,
   "id": "e8b17243",
   "metadata": {},
   "outputs": [],
   "source": [
    "# Here we drop any columns with dates in them\n",
    "def drop(df):\n",
    "    for col in df.columns:\n",
    "        if 'Date' in col:\n",
    "            df = df.drop([col], axis =1)\n",
    "        else:\n",
    "            print('no drop')\n",
    "        \n",
    "    return df"
   ]
  },
  {
   "cell_type": "code",
   "execution_count": 7,
   "id": "a94aa484",
   "metadata": {},
   "outputs": [
    {
     "name": "stdout",
     "output_type": "stream",
     "text": [
      "no drop\n",
      "no drop\n",
      "no drop\n",
      "no drop\n",
      "no drop\n",
      "no drop\n",
      "no drop\n",
      "no drop\n",
      "no drop\n",
      "no drop\n",
      "no drop\n",
      "no drop\n",
      "no drop\n",
      "no drop\n",
      "no drop\n",
      "no drop\n",
      "no drop\n",
      "no drop\n",
      "no drop\n",
      "no drop\n",
      "no drop\n",
      "no drop\n",
      "no drop\n",
      "no drop\n",
      "no drop\n",
      "no drop\n",
      "no drop\n",
      "no drop\n",
      "no drop\n",
      "no drop\n",
      "no drop\n",
      "no drop\n",
      "no drop\n",
      "no drop\n",
      "no drop\n",
      "no drop\n",
      "no drop\n",
      "no drop\n",
      "no drop\n",
      "no drop\n",
      "no drop\n",
      "no drop\n",
      "no drop\n",
      "no drop\n",
      "no drop\n",
      "no drop\n",
      "no drop\n",
      "no drop\n",
      "no drop\n",
      "no drop\n",
      "no drop\n",
      "no drop\n",
      "no drop\n",
      "no drop\n",
      "no drop\n",
      "no drop\n",
      "no drop\n",
      "no drop\n",
      "no drop\n",
      "no drop\n",
      "no drop\n",
      "no drop\n",
      "no drop\n",
      "no drop\n",
      "no drop\n",
      "no drop\n",
      "no drop\n",
      "no drop\n",
      "no drop\n",
      "no drop\n",
      "no drop\n",
      "no drop\n",
      "no drop\n",
      "no drop\n",
      "no drop\n",
      "no drop\n",
      "no drop\n",
      "no drop\n",
      "no drop\n",
      "no drop\n",
      "no drop\n",
      "no drop\n",
      "no drop\n",
      "no drop\n",
      "no drop\n",
      "no drop\n",
      "no drop\n",
      "no drop\n",
      "no drop\n",
      "no drop\n",
      "no drop\n",
      "no drop\n",
      "no drop\n",
      "no drop\n",
      "no drop\n",
      "no drop\n",
      "no drop\n",
      "no drop\n",
      "no drop\n",
      "no drop\n",
      "no drop\n",
      "no drop\n",
      "no drop\n",
      "no drop\n",
      "no drop\n",
      "no drop\n",
      "no drop\n",
      "no drop\n",
      "no drop\n",
      "no drop\n",
      "no drop\n",
      "no drop\n",
      "no drop\n",
      "no drop\n",
      "no drop\n",
      "no drop\n",
      "no drop\n",
      "no drop\n",
      "no drop\n",
      "no drop\n",
      "no drop\n",
      "no drop\n",
      "no drop\n",
      "no drop\n",
      "no drop\n",
      "no drop\n",
      "no drop\n",
      "no drop\n"
     ]
    }
   ],
   "source": [
    "df = drop(df)"
   ]
  },
  {
   "cell_type": "code",
   "execution_count": 8,
   "id": "195adbb2",
   "metadata": {},
   "outputs": [],
   "source": [
    "df = df.drop(df.columns[0], axis=1)"
   ]
  },
  {
   "cell_type": "code",
   "execution_count": 9,
   "id": "842529c4",
   "metadata": {},
   "outputs": [],
   "source": [
    "df.to_csv('df_final.txt')"
   ]
  }
 ],
 "metadata": {
  "kernelspec": {
   "display_name": "Python 3 (ipykernel)",
   "language": "python",
   "name": "python3"
  },
  "language_info": {
   "codemirror_mode": {
    "name": "ipython",
    "version": 3
   },
   "file_extension": ".py",
   "mimetype": "text/x-python",
   "name": "python",
   "nbconvert_exporter": "python",
   "pygments_lexer": "ipython3",
   "version": "3.11.5"
  }
 },
 "nbformat": 4,
 "nbformat_minor": 5
}
